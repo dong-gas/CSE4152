{
  "cells": [
    {
      "cell_type": "code",
      "execution_count": 2,
      "metadata": {
        "colab": {
          "base_uri": "https://localhost:8080/"
        },
        "id": "pXaYAHiEQeeU",
        "outputId": "c3233ebb-7955-4e94-8360-d7431cbbd427"
      },
      "outputs": [
        {
          "output_type": "stream",
          "name": "stdout",
          "text": [
            "1번째 피보나치 수: 1\n",
            "2번째 피보나치 수: 1\n",
            "3번째 피보나치 수: 2\n",
            "4번째 피보나치 수: 3\n",
            "5번째 피보나치 수: 5\n",
            "6번째 피보나치 수: 8\n",
            "7번째 피보나치 수: 13\n",
            "8번째 피보나치 수: 21\n",
            "9번째 피보나치 수: 34\n",
            "10번째 피보나치 수: 55\n"
          ]
        }
      ],
      "source": [
        "# 실습 1-1. 주어진 피보나치 수열의 정의를 이용하여 기본적인 재귀적 풀이 방식으로 n번째 피보나치 수를 구하는 fibo_1 함수를 작성하시오.\n",
        "# fibo_1을 이용하여 피보나치 수열의 1~10번째 항을 반복문을 이용하여 출력하시오.\n",
        "\n",
        "\n",
        "def fibo_1(n):\n",
        "    '''\n",
        "    Write your code in here\n",
        "    '''\n",
        "    if n == 0 :\n",
        "      return 0\n",
        "    elif n == 1 :\n",
        "      return 1\n",
        "    else :\n",
        "      return fibo_1(n-1) + fibo_1(n-2)\n",
        "\n",
        "'''\n",
        "Write your code in here\n",
        "'''\n",
        "for i in range (10) :\n",
        "      print(f\"{i+1}번째 피보나치 수: {fibo_1(i+1)}\")"
      ]
    },
    {
      "cell_type": "code",
      "execution_count": 3,
      "metadata": {
        "colab": {
          "base_uri": "https://localhost:8080/"
        },
        "id": "RHUD95JgQeeV",
        "outputId": "2e521dd2-60b0-4e05-b6a1-63a97576c5a0"
      },
      "outputs": [
        {
          "output_type": "stream",
          "name": "stdout",
          "text": [
            "1번째 피보나치 수: 1\n",
            "2번째 피보나치 수: 1\n",
            "3번째 피보나치 수: 2\n",
            "4번째 피보나치 수: 3\n",
            "5번째 피보나치 수: 5\n",
            "6번째 피보나치 수: 8\n",
            "7번째 피보나치 수: 13\n",
            "8번째 피보나치 수: 21\n",
            "9번째 피보나치 수: 34\n",
            "10번째 피보나치 수: 55\n"
          ]
        }
      ],
      "source": [
        "# 실습 1-2. 피보나치 수열의 특징을 이용하여 반복적 풀이 방식으로 n번째 피보나치 수를 구하는 fibo_2 함수를 직성하시오.\n",
        "# fibo_2를 이용하여 피보나치 수열의 1~10번째 항을 반복문을 이용하여 출력하시오.\n",
        "# 피보나치 수열의 n+1 번째 항은 n-1 번재 항과 n 번째 항을 더한 값이다.\n",
        "\n",
        "def fibo_2(n):\n",
        "    '''\n",
        "    Write your code in here\n",
        "    '''\n",
        "    if n == 0 :\n",
        "      return 0\n",
        "    elif n == 1 :\n",
        "      return 1\n",
        "    else :\n",
        "      a, b = 0, 1\n",
        "      for i in range(2, n+1) :\n",
        "        a, b = b, a+b\n",
        "      return b\n",
        "\n",
        "'''\n",
        "Write your code in here\n",
        "'''\n",
        "for i in range (10) :\n",
        "      print(f\"{i+1}번째 피보나치 수: {fibo_2(i+1)}\")"
      ]
    },
    {
      "cell_type": "code",
      "execution_count": 4,
      "metadata": {
        "colab": {
          "base_uri": "https://localhost:8080/"
        },
        "id": "tsnQLo8tQeeW",
        "outputId": "bb7cc9db-c9db-43de-8ea6-bbc95e8f11cb"
      },
      "outputs": [
        {
          "output_type": "stream",
          "name": "stdout",
          "text": [
            "[[19 22]\n",
            " [43 50]]\n"
          ]
        }
      ],
      "source": [
        "# NumPy 모듈을 이용한 행렬 곱셈 구현\n",
        "import numpy as np   # numpy 모듈을 np라는 이름으로 현재 소스로 불러오기\n",
        "\n",
        "a = np.array([[1, 2],\n",
        "              [3, 4]])  # 1행이 1, 2고 2행이 3, 4인 2x2 정방행렬 a 정의\n",
        "b = np.array([[5, 6],\n",
        "              [7, 8]])  # 1행이 5, 6이고 2행이 7, 8인 2x2 정방행렬 b 정의\n",
        "c = np.matmul(a, b)   # np.matmul을 이용하여 axb 순으로 행렬곱\n",
        "print(c)"
      ]
    },
    {
      "cell_type": "code",
      "execution_count": 6,
      "metadata": {
        "colab": {
          "base_uri": "https://localhost:8080/"
        },
        "id": "s_w_O0APQeeW",
        "outputId": "aa2595ec-abb1-442c-ef1a-3ca552eefc19"
      },
      "outputs": [
        {
          "output_type": "stream",
          "name": "stdout",
          "text": [
            "1번째 피보나치 수: 1\n",
            "2번째 피보나치 수: 1\n",
            "3번째 피보나치 수: 2\n",
            "4번째 피보나치 수: 3\n",
            "5번째 피보나치 수: 5\n",
            "6번째 피보나치 수: 8\n",
            "7번째 피보나치 수: 13\n",
            "8번째 피보나치 수: 21\n",
            "9번째 피보나치 수: 34\n",
            "10번째 피보나치 수: 55\n"
          ]
        }
      ],
      "source": [
        "# 실습 1-3. Numpy를 이용한 행렬 곱셈 풀이를 이용하여 n번째 피보나치 수를 구하는 fibo_3 함수를 작성하시오.\n",
        "# fibo_3를 이용하여 피보나치 수열의 1~10번째 항을 반복문을 이용하여 출력하시오.\n",
        "# 강의 자료의 피보나치 수열의 행렬곱 관계를 참고한다.\n",
        "\n",
        "import numpy as np\n",
        "\n",
        "\n",
        "def fibo_3(n):\n",
        "\n",
        "    if n == 0:\n",
        "        return 0\n",
        "    elif n == 1:\n",
        "        return 1\n",
        "\n",
        "    # 피보나치 수열의 기본 행렬\n",
        "    F = np.array([[1, 1], [1, 0]])\n",
        "\n",
        "    # F^(n-1)을 계산하여 n번째 피보나치 수를 구함\n",
        "    result = np.linalg.matrix_power(F, n-1)\n",
        "\n",
        "    # 결과 행렬의 첫 번째 행 첫 번째 원소가 n번째 피보나치 수\n",
        "    return result[0, 0]\n",
        "\n",
        "'''\n",
        "Write your code in here\n",
        "'''\n",
        "for i in range (10) :\n",
        "      print(f\"{i+1}번째 피보나치 수: {fibo_3(i+1)}\")"
      ]
    },
    {
      "cell_type": "markdown",
      "metadata": {
        "id": "LZBthLMSQeeW"
      },
      "source": [
        "### 2"
      ]
    },
    {
      "cell_type": "code",
      "execution_count": 7,
      "metadata": {
        "colab": {
          "base_uri": "https://localhost:8080/"
        },
        "id": "Qxx-td1CQeeX",
        "outputId": "d3fc0f26-ba5f-4446-b654-28efac9eb0d0"
      },
      "outputs": [
        {
          "output_type": "stream",
          "name": "stdout",
          "text": [
            "x =  [3]\n",
            "<class 'list'>\n",
            "2의 root 값 :  1.4142135623730951\n"
          ]
        }
      ],
      "source": [
        "# Sympy 사용법\n",
        "import sympy   # Symbolic mathemathics of Python. 수학 공식 정의 및 풀이 관련 파이썬 패키지\n",
        "\n",
        "# ex) 6x - 1 = x + 14 라는 방정식의 해를 구하려면\n",
        "x = sympy.symbols(\"x\")   # 변수 x 정의\n",
        "f = sympy.Eq(6*x-1, x+14)   # 방정식의 좌항, 우항을 차례대로 정의\n",
        "print('x = ', sympy.solve(f))   # solve() 함수로 방정식 f의 해 구하기\n",
        "print(type(sympy.solve(f)))   # 해의 type은 list로 방정식의 모든 해를 원소 값으로 가진다.\n",
        "\n",
        "\n",
        "# Python에서 제곱근(Square Root) 구하는 방법\n",
        "import math   # 수학 관련 함수가 있는 파이썬 기본 패키지\n",
        "a = 2\n",
        "print('2의 root 값 : ', math.sqrt(a))   # math 패키지의 sqrt() 함수 사용"
      ]
    },
    {
      "cell_type": "code",
      "execution_count": 9,
      "metadata": {
        "colab": {
          "base_uri": "https://localhost:8080/"
        },
        "id": "XwhgQI2fQeeX",
        "outputId": "ef35e3b7-ce6e-42c7-ca6a-f7b3f00d81cd"
      },
      "outputs": [
        {
          "output_type": "stream",
          "name": "stdout",
          "text": [
            "황금비 : 1:1.618033988749895\n"
          ]
        }
      ],
      "source": [
        "# 실습 2-1. 황금비의 정의와 sympy, math 패키지를 이용하여 황금비를 실수 형태로 출력하시오.\n",
        "sol = 0\n",
        "x = sympy.symbols(\"x\")  # 변수 x 정의\n",
        "sol = sympy.solve(x**2 - x - 1, x)\n",
        "sol = float(sol[1])\n",
        "'''\n",
        "Write your code in here\n",
        "'''\n",
        "\n",
        "print(f'황금비 : 1:{sol}')  # 방정식의 해 중 양수 값의 황금비 출력"
      ]
    },
    {
      "cell_type": "code",
      "execution_count": 10,
      "metadata": {
        "colab": {
          "base_uri": "https://localhost:8080/"
        },
        "id": "9zZn6oYTQeeX",
        "outputId": "2aa87360-0d2d-4873-8482-07eeece58996"
      },
      "outputs": [
        {
          "output_type": "stream",
          "name": "stdout",
          "text": [
            "1과 2번째 피보나치 수열의 비율 : 1.0\n",
            "2과 3번째 피보나치 수열의 비율 : 2.0\n",
            "3과 4번째 피보나치 수열의 비율 : 1.5\n",
            "4과 5번째 피보나치 수열의 비율 : 1.6666666666666667\n",
            "5과 6번째 피보나치 수열의 비율 : 1.6\n",
            "6과 7번째 피보나치 수열의 비율 : 1.625\n",
            "7과 8번째 피보나치 수열의 비율 : 1.6153846153846154\n",
            "8과 9번째 피보나치 수열의 비율 : 1.619047619047619\n",
            "9과 10번째 피보나치 수열의 비율 : 1.6176470588235294\n",
            "10과 11번째 피보나치 수열의 비율 : 1.6181818181818182\n",
            "11과 12번째 피보나치 수열의 비율 : 1.6179775280898876\n",
            "12과 13번째 피보나치 수열의 비율 : 1.6180555555555556\n",
            "13과 14번째 피보나치 수열의 비율 : 1.6180257510729614\n",
            "14과 15번째 피보나치 수열의 비율 : 1.6180371352785146\n"
          ]
        }
      ],
      "source": [
        "# 실습 2-2. 실습 1에서 만든 피보나치 수열을 구하는 함수를 이용하여 피보나치 수열 15번째까지의 원소들에 대하여 n+1번째 항과 n번째 항의\n",
        "# 비율을 구하고 해당 비율이 어떤 값으로 수렴해나가는지 관찰해보시오.\n",
        "# (n+1) / (n) 의 비율을 구하면 실습 2-1에서 구한 황금비의 값과 같아짐을 알 수 있다.\n",
        "\n",
        "def fibo(n):\n",
        "    '''\n",
        "    Write your code in here\n",
        "    '''\n",
        "    if n == 0 :\n",
        "      return 0\n",
        "    elif n == 1 :\n",
        "      return 1\n",
        "    else :\n",
        "      return fibo(n-1) + fibo(n-2)\n",
        "    return 0\n",
        "\n",
        "\n",
        "for n in range(1, 15):\n",
        "    '''\n",
        "    Write your code in here\n",
        "    '''\n",
        "    fibo_n = fibo(n)\n",
        "    fibo_n_plus_1 = fibo(n + 1)\n",
        "\n",
        "\n",
        "    fibo_ratio = fibo_n_plus_1 / fibo_n\n",
        "\n",
        "    print(f'{n}과 {n+1}번째 피보나치 수열의 비율 : {fibo_ratio}')\n",
        ""
      ]
    }
  ],
  "metadata": {
    "kernelspec": {
      "display_name": "Python 3 (ipykernel)",
      "language": "python",
      "name": "python3"
    },
    "language_info": {
      "codemirror_mode": {
        "name": "ipython",
        "version": 3
      },
      "file_extension": ".py",
      "mimetype": "text/x-python",
      "name": "python",
      "nbconvert_exporter": "python",
      "pygments_lexer": "ipython3",
      "version": "3.9.7"
    },
    "colab": {
      "provenance": []
    }
  },
  "nbformat": 4,
  "nbformat_minor": 0
}